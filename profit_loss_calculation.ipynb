{
  "nbformat": 4,
  "nbformat_minor": 0,
  "metadata": {
    "colab": {
      "provenance": [],
      "collapsed_sections": []
    },
    "kernelspec": {
      "name": "python3",
      "display_name": "Python 3"
    },
    "language_info": {
      "name": "python"
    }
  },
  "cells": [
    {
      "cell_type": "code",
      "execution_count": 1,
      "metadata": {
        "id": "FMygjW5jTxBV"
      },
      "outputs": [],
      "source": [
        "import pandas as pd\n",
        "import numpy as np\n",
        "import os"
      ]
    },
    {
      "cell_type": "code",
      "source": [
        "os.chdir(\"/content/\")"
      ],
      "metadata": {
        "id": "iXRgkO4FBV28"
      },
      "execution_count": 2,
      "outputs": []
    },
    {
      "cell_type": "code",
      "source": [
        "list_of_pairs = !ls"
      ],
      "metadata": {
        "id": "0m1QXsjABoSV"
      },
      "execution_count": 3,
      "outputs": []
    },
    {
      "cell_type": "code",
      "source": [
        "list_1=[]\n",
        "for i in range(21):\n",
        "  list_1.append(list_of_pairs[i].split(\"  \"))"
      ],
      "metadata": {
        "id": "TTjtUUZYCADY"
      },
      "execution_count": 4,
      "outputs": []
    },
    {
      "cell_type": "code",
      "source": [
        "list_1"
      ],
      "metadata": {
        "colab": {
          "base_uri": "https://localhost:8080/"
        },
        "id": "6QyNJn7tYgVi",
        "outputId": "d38ce64c-ac3d-42de-a8a3-1b1dc43eb135"
      },
      "execution_count": 5,
      "outputs": [
        {
          "output_type": "execute_result",
          "data": {
            "text/plain": [
              "[['ASIANPAINT_NESTLEIND_with_rsi.csv', 'ICICIBANK_BHARTIARTL_with_rsi.csv'],\n",
              " ['BAJAJ-AUTO_BPCL_with_rsi.csv\\t', ' ICICIBANK_RELIANCE_with_rsi.csv'],\n",
              " ['BAJAJ-AUTO_EICHERMOT_with_rsi.csv', 'IOC_LT_with_rsi.csv'],\n",
              " ['BAJAJ-AUTO_MARUTI_with_rsi.csv\\t', ' ITC_ONGC_with_rsi.csv'],\n",
              " ['BAJAJFINSV_ICICIBANK_with_rsi.csv', 'KOTAKBANK_BAJFINANCE_with_rsi.csv'],\n",
              " ['BAJFINANCE_KOTAKBANK_with_rsi.csv', 'KOTAKBANK_ICICIBANK_with_rsi.csv'],\n",
              " ['BAJFINANCE_TECHM_with_rsi.csv\\t', ' MARUTI_BPCL_with_rsi.csv'],\n",
              " ['BHARTIARTL_NESTLEIND_with_rsi.csv', 'MARUTI_HDFCBANK_with_rsi.csv'],\n",
              " ['BPCL_BRITANNIA_with_rsi.csv\\t', ' NESTLEIND_HINDUNILVR_with_rsi.csv'],\n",
              " ['BPCL_HDFCBANK_with_rsi.csv\\t', ' NESTLEIND_TECHM_with_rsi.csv'],\n",
              " ['BRITANNIA_MARUTI_with_rsi.csv\\t', ' ONGC_IOC_with_rsi.csv'],\n",
              " ['COALINDIA_ONGC_with_rsi.csv\\t', ' RELIANCE_BAJAJ-AUTO_with_rsi.csv'],\n",
              " ['DRREDDY_BHARTIARTL_with_rsi.csv', '', 'RELIANCE_EICHERMOT_with_rsi.csv'],\n",
              " ['DRREDDY_NESTLEIND_with_rsi.csv\\t', ' RELIANCE_HDFCBANK_with_rsi.csv'],\n",
              " ['EICHERMOT_MARUTI_with_rsi.csv\\t', ' sample_data'],\n",
              " ['HCLTECH_TECHM_with_rsi.csv\\t', ' TATAMOTORS_AXISBANK_with_rsi.csv'],\n",
              " ['HDFCBANK_BAJAJ-AUTO_with_rsi.csv', ' TATAMOTORS_TATASTEEL_with_rsi.csv'],\n",
              " ['HDFC_JSWSTEEL_with_rsi.csv\\t', ' TATASTEEL_JSWSTEEL_with_rsi.csv'],\n",
              " ['HDFC_TATAMOTORS_with_rsi.csv\\t', ' TECHM_BAJFINANCE_with_rsi.csv'],\n",
              " ['HDFC_TATASTEEL_with_rsi.csv\\t', ' TECHM_DRREDDY_with_rsi.csv'],\n",
              " ['ICICIBANK_BAJFINANCE_with_rsi.csv', 'TECHM_ICICIBANK_with_rsi.csv']]"
            ]
          },
          "metadata": {},
          "execution_count": 5
        }
      ]
    },
    {
      "cell_type": "code",
      "source": [
        "\n",
        "final_list = []\n",
        "for i in range(len(list_1)):\n",
        "  final_list.append(list_1[i][0].replace(\"\\t\",\"\").replace(\" \",\"\"))\n",
        "  final_list.append(list_1[i][1].replace(\"\\t\",\"\").replace(\" \",\"\"))\n",
        "\n",
        "final_list.remove('sample_data')\n",
        "final_list.remove('')\n",
        "final_list"
      ],
      "metadata": {
        "colab": {
          "base_uri": "https://localhost:8080/"
        },
        "id": "wHkqIPJaXf_H",
        "outputId": "b7540763-ae38-4056-a8cf-ebb38fc313d2"
      },
      "execution_count": 6,
      "outputs": [
        {
          "output_type": "execute_result",
          "data": {
            "text/plain": [
              "['ASIANPAINT_NESTLEIND_with_rsi.csv',\n",
              " 'ICICIBANK_BHARTIARTL_with_rsi.csv',\n",
              " 'BAJAJ-AUTO_BPCL_with_rsi.csv',\n",
              " 'ICICIBANK_RELIANCE_with_rsi.csv',\n",
              " 'BAJAJ-AUTO_EICHERMOT_with_rsi.csv',\n",
              " 'IOC_LT_with_rsi.csv',\n",
              " 'BAJAJ-AUTO_MARUTI_with_rsi.csv',\n",
              " 'ITC_ONGC_with_rsi.csv',\n",
              " 'BAJAJFINSV_ICICIBANK_with_rsi.csv',\n",
              " 'KOTAKBANK_BAJFINANCE_with_rsi.csv',\n",
              " 'BAJFINANCE_KOTAKBANK_with_rsi.csv',\n",
              " 'KOTAKBANK_ICICIBANK_with_rsi.csv',\n",
              " 'BAJFINANCE_TECHM_with_rsi.csv',\n",
              " 'MARUTI_BPCL_with_rsi.csv',\n",
              " 'BHARTIARTL_NESTLEIND_with_rsi.csv',\n",
              " 'MARUTI_HDFCBANK_with_rsi.csv',\n",
              " 'BPCL_BRITANNIA_with_rsi.csv',\n",
              " 'NESTLEIND_HINDUNILVR_with_rsi.csv',\n",
              " 'BPCL_HDFCBANK_with_rsi.csv',\n",
              " 'NESTLEIND_TECHM_with_rsi.csv',\n",
              " 'BRITANNIA_MARUTI_with_rsi.csv',\n",
              " 'ONGC_IOC_with_rsi.csv',\n",
              " 'COALINDIA_ONGC_with_rsi.csv',\n",
              " 'RELIANCE_BAJAJ-AUTO_with_rsi.csv',\n",
              " 'DRREDDY_BHARTIARTL_with_rsi.csv',\n",
              " 'DRREDDY_NESTLEIND_with_rsi.csv',\n",
              " 'RELIANCE_HDFCBANK_with_rsi.csv',\n",
              " 'EICHERMOT_MARUTI_with_rsi.csv',\n",
              " 'HCLTECH_TECHM_with_rsi.csv',\n",
              " 'TATAMOTORS_AXISBANK_with_rsi.csv',\n",
              " 'HDFCBANK_BAJAJ-AUTO_with_rsi.csv',\n",
              " 'TATAMOTORS_TATASTEEL_with_rsi.csv',\n",
              " 'HDFC_JSWSTEEL_with_rsi.csv',\n",
              " 'TATASTEEL_JSWSTEEL_with_rsi.csv',\n",
              " 'HDFC_TATAMOTORS_with_rsi.csv',\n",
              " 'TECHM_BAJFINANCE_with_rsi.csv',\n",
              " 'HDFC_TATASTEEL_with_rsi.csv',\n",
              " 'TECHM_DRREDDY_with_rsi.csv',\n",
              " 'ICICIBANK_BAJFINANCE_with_rsi.csv',\n",
              " 'TECHM_ICICIBANK_with_rsi.csv']"
            ]
          },
          "metadata": {},
          "execution_count": 6
        }
      ]
    },
    {
      "cell_type": "code",
      "source": [
        "final_list"
      ],
      "metadata": {
        "colab": {
          "base_uri": "https://localhost:8080/"
        },
        "id": "bc-Er7JlsM5j",
        "outputId": "b172b863-f7a8-4a98-d482-41b24532a7a8"
      },
      "execution_count": 7,
      "outputs": [
        {
          "output_type": "execute_result",
          "data": {
            "text/plain": [
              "['ASIANPAINT_NESTLEIND_with_rsi.csv',\n",
              " 'ICICIBANK_BHARTIARTL_with_rsi.csv',\n",
              " 'BAJAJ-AUTO_BPCL_with_rsi.csv',\n",
              " 'ICICIBANK_RELIANCE_with_rsi.csv',\n",
              " 'BAJAJ-AUTO_EICHERMOT_with_rsi.csv',\n",
              " 'IOC_LT_with_rsi.csv',\n",
              " 'BAJAJ-AUTO_MARUTI_with_rsi.csv',\n",
              " 'ITC_ONGC_with_rsi.csv',\n",
              " 'BAJAJFINSV_ICICIBANK_with_rsi.csv',\n",
              " 'KOTAKBANK_BAJFINANCE_with_rsi.csv',\n",
              " 'BAJFINANCE_KOTAKBANK_with_rsi.csv',\n",
              " 'KOTAKBANK_ICICIBANK_with_rsi.csv',\n",
              " 'BAJFINANCE_TECHM_with_rsi.csv',\n",
              " 'MARUTI_BPCL_with_rsi.csv',\n",
              " 'BHARTIARTL_NESTLEIND_with_rsi.csv',\n",
              " 'MARUTI_HDFCBANK_with_rsi.csv',\n",
              " 'BPCL_BRITANNIA_with_rsi.csv',\n",
              " 'NESTLEIND_HINDUNILVR_with_rsi.csv',\n",
              " 'BPCL_HDFCBANK_with_rsi.csv',\n",
              " 'NESTLEIND_TECHM_with_rsi.csv',\n",
              " 'BRITANNIA_MARUTI_with_rsi.csv',\n",
              " 'ONGC_IOC_with_rsi.csv',\n",
              " 'COALINDIA_ONGC_with_rsi.csv',\n",
              " 'RELIANCE_BAJAJ-AUTO_with_rsi.csv',\n",
              " 'DRREDDY_BHARTIARTL_with_rsi.csv',\n",
              " 'DRREDDY_NESTLEIND_with_rsi.csv',\n",
              " 'RELIANCE_HDFCBANK_with_rsi.csv',\n",
              " 'EICHERMOT_MARUTI_with_rsi.csv',\n",
              " 'HCLTECH_TECHM_with_rsi.csv',\n",
              " 'TATAMOTORS_AXISBANK_with_rsi.csv',\n",
              " 'HDFCBANK_BAJAJ-AUTO_with_rsi.csv',\n",
              " 'TATAMOTORS_TATASTEEL_with_rsi.csv',\n",
              " 'HDFC_JSWSTEEL_with_rsi.csv',\n",
              " 'TATASTEEL_JSWSTEEL_with_rsi.csv',\n",
              " 'HDFC_TATAMOTORS_with_rsi.csv',\n",
              " 'TECHM_BAJFINANCE_with_rsi.csv',\n",
              " 'HDFC_TATASTEEL_with_rsi.csv',\n",
              " 'TECHM_DRREDDY_with_rsi.csv',\n",
              " 'ICICIBANK_BAJFINANCE_with_rsi.csv',\n",
              " 'TECHM_ICICIBANK_with_rsi.csv']"
            ]
          },
          "metadata": {},
          "execution_count": 7
        }
      ]
    },
    {
      "cell_type": "code",
      "source": [
        "pl_1=[]\n",
        "dates_column =[]\n",
        "for i in final_list:\n",
        "  a,b,_1,_2=i.split('_')\n",
        "  pair = pd.read_csv(\"/content/{}\".format(i))\n",
        "  rsi = pair['rsi']\n",
        "  buy_indices = []\n",
        "  sell_indices = []\n",
        "  date = \"\"\n",
        "  for i in range(len(rsi)-14):\n",
        "    if rsi[i]<=30:\n",
        "      buy_indices.append(i)\n",
        "    if rsi[i]>=70:\n",
        "      sell_indices.append(i)\n",
        "  half_budget = 50000\n",
        "  date=pair['dates']\n",
        "  \n",
        "\n",
        "  if(len(sell_indices)!=0):\n",
        "    for i in sell_indices:\n",
        "      company_1_shares = int(half_budget / pair['company A'][i])\n",
        "      company_2_shares = int(half_budget / pair['company B'][i])\n",
        "      closing_index = 0\n",
        "      sell_rsi_initial = pair['rsi'][i]\n",
        "      twenty_percent_value = 0.2*70\n",
        "      for j in range(i,len(rsi)):\n",
        "        if(rsi[j]<=sell_rsi_initial-twenty_percent_value):\n",
        "          closing_index = j\n",
        "          break\n",
        "      \n",
        "      pl_a = company_1_shares*(pair['company A'][i]-pair['company A'][closing_index])\n",
        "      pl_b = company_2_shares*(pair['company B'][closing_index]-pair['company B'][i])\n",
        "      \n",
        "      #print(\"P/L ccc for {} and {} at {} = {}\".format(a,b,date[i],pl_a+pl_b))\n",
        "      dates_column.append(date[i])\n",
        "      pl_1.append(pl_a+pl_b)\n",
        "\n",
        "  if(len(buy_indices)!=0):\n",
        "    for i in range(len(buy_indices)):\n",
        "      company_1_shares = int(half_budget / pair['company A'][i])\n",
        "      company_2_shares = int(half_budget / pair['company B'][i])\n",
        "      closing_index = 0\n",
        "      buy_rsi_initial = pair['rsi'][i]\n",
        "      twenty_percent_value = 0.2*30\n",
        "      for j in range(i,len(rsi)):\n",
        "        if(rsi[j]>=buy_rsi_initial+twenty_percent_value):\n",
        "          closing_index = j\n",
        "          break\n",
        "\n",
        "      pl_a = company_1_shares*(pair['company A'][closing_index]-pair['company A'][i])\n",
        "      pl_b = company_2_shares*(pair['company B'][i]-pair['company B'][closing_index])\n",
        "      #print(\"P/L for {} and {} at {} = {}\".format(a,b,date[i],pl_a+pl_b))\n",
        "      dates_column.append(date[i])\n",
        "      pl_1.append(pl_a+pl_b)\n",
        "  \n",
        "  \n",
        "  print(len(dates_column))\n",
        "  print(len(pl_1))\n",
        "  new_df = pd.DataFrame({\"dates\":dates_column,\"{} and {} P/L\".format(a,b):pl_1})\n",
        "  new_df.to_csv(\"PL_{}_and_{}.csv\".format(a,b))\n",
        "\n",
        "\n",
        "\n",
        "  "
      ],
      "metadata": {
        "colab": {
          "base_uri": "https://localhost:8080/"
        },
        "id": "C8mPAC1xkga-",
        "outputId": "ad5a2218-e2bd-4e51-837f-e2a31445adb5"
      },
      "execution_count": 8,
      "outputs": [
        {
          "output_type": "stream",
          "name": "stdout",
          "text": [
            "26\n",
            "26\n",
            "32\n",
            "32\n",
            "34\n",
            "34\n",
            "34\n",
            "34\n",
            "35\n",
            "35\n",
            "46\n",
            "46\n",
            "49\n",
            "49\n",
            "51\n",
            "51\n",
            "51\n",
            "51\n",
            "52\n",
            "52\n",
            "52\n",
            "52\n",
            "52\n",
            "52\n",
            "53\n",
            "53\n",
            "57\n",
            "57\n",
            "58\n",
            "58\n",
            "59\n",
            "59\n",
            "63\n",
            "63\n",
            "64\n",
            "64\n",
            "66\n",
            "66\n",
            "70\n",
            "70\n",
            "71\n",
            "71\n",
            "76\n",
            "76\n",
            "84\n",
            "84\n",
            "87\n",
            "87\n",
            "90\n",
            "90\n",
            "90\n",
            "90\n",
            "90\n",
            "90\n",
            "90\n",
            "90\n",
            "93\n",
            "93\n",
            "104\n",
            "104\n",
            "106\n",
            "106\n",
            "108\n",
            "108\n",
            "108\n",
            "108\n",
            "125\n",
            "125\n",
            "131\n",
            "131\n",
            "132\n",
            "132\n",
            "133\n",
            "133\n",
            "133\n",
            "133\n",
            "133\n",
            "133\n",
            "133\n",
            "133\n"
          ]
        }
      ]
    },
    {
      "cell_type": "code",
      "source": [
        "pl_1"
      ],
      "metadata": {
        "colab": {
          "base_uri": "https://localhost:8080/"
        },
        "id": "QG2_UUYSv2M0",
        "outputId": "fb7b64a9-1beb-4919-fd91-bf863fa0dac4"
      },
      "execution_count": 9,
      "outputs": [
        {
          "output_type": "execute_result",
          "data": {
            "text/plain": [
              "[219.70000000000164,\n",
              " 1111.8000000000002,\n",
              " 1590.0000000000018,\n",
              " -2851.949999999997,\n",
              " -2769.7999999999956,\n",
              " -1320.0000000000005,\n",
              " -744.8999999999992,\n",
              " -298.34999999999945,\n",
              " 19.05000000000564,\n",
              " -756.9499999999989,\n",
              " -491.8500000000013,\n",
              " -1212.6999999999944,\n",
              " -1654.2999999999972,\n",
              " -645.0499999999965,\n",
              " 1119.950000000007,\n",
              " 463.0500000000013,\n",
              " 1052.850000000004,\n",
              " 64.00000000000568,\n",
              " 749.5499999999956,\n",
              " 416.8000000000043,\n",
              " 731.4000000000042,\n",
              " 813.0,\n",
              " 740.6500000000015,\n",
              " -9.999999999992724,\n",
              " 1828.800000000003,\n",
              " -25.599999999996953,\n",
              " 2030.7500000000023,\n",
              " 2474.399999999998,\n",
              " 10109.849999999999,\n",
              " 8888.800000000003,\n",
              " 7295.85,\n",
              " 35.200000000000045,\n",
              " 4805.500000000007,\n",
              " -3486.0000000000005,\n",
              " 2423.450000000001,\n",
              " -906.3000000000043,\n",
              " 971.350000000002,\n",
              " 10462.199999999997,\n",
              " 9027.2,\n",
              " 6850.199999999997,\n",
              " 5479.100000000005,\n",
              " -1004.7999999999954,\n",
              " 8944.399999999994,\n",
              " 5313.750000000009,\n",
              " -108.20000000000391,\n",
              " 590.2000000000021,\n",
              " -815.4000000000005,\n",
              " 2882.7500000000014,\n",
              " 2155.300000000008,\n",
              " 162.94999999999982,\n",
              " 2346.500000000004,\n",
              " 3598.0500000000006,\n",
              " 1214.2999999999956,\n",
              " 2372.6999999999944,\n",
              " 2142.5000000000045,\n",
              " 3460.2999999999984,\n",
              " 2247.899999999994,\n",
              " 5245.199999999999,\n",
              " 2645.149999999996,\n",
              " 5624.5999999999985,\n",
              " 8078.049999999996,\n",
              " -1667.350000000007,\n",
              " 2227.9999999999945,\n",
              " 1423.7999999999965,\n",
              " 6974.499999999992,\n",
              " 9048.299999999992,\n",
              " 3529.500000000002,\n",
              " 2219.3499999999967,\n",
              " 566.3500000000004,\n",
              " 1220.2499999999993,\n",
              " 1101.800000000002,\n",
              " 90.0,\n",
              " 18575.249999999996,\n",
              " 7366.799999999992,\n",
              " 4686.600000000002,\n",
              " 5476.049999999998,\n",
              " 12190.099999999999,\n",
              " 5173.599999999999,\n",
              " 5105.900000000005,\n",
              " 5247.0,\n",
              " 4961.25,\n",
              " 2526.6500000000015,\n",
              " 3829.0000000000014,\n",
              " 2383.150000000005,\n",
              " 3829.099999999991,\n",
              " 3103.2000000000053,\n",
              " 164.70000000000073,\n",
              " 9427.800000000001,\n",
              " 8908.050000000001,\n",
              " 11043.9,\n",
              " 199.85000000000446,\n",
              " -1170.1599999999964,\n",
              " 206.9000000000018,\n",
              " 3507.4500000000044,\n",
              " 4306.600000000006,\n",
              " 9908.050000000001,\n",
              " 10775.849999999997,\n",
              " 6414.149999999998,\n",
              " 8316.55000000001,\n",
              " 2396.6000000000067,\n",
              " 4322.100000000008,\n",
              " 6399.25,\n",
              " 2554.4000000000005,\n",
              " 3865.3000000000015,\n",
              " 130.34999999999673,\n",
              " -1830.299999999999,\n",
              " 3482.2500000000064,\n",
              " 1545.6999999999953,\n",
              " 1377.4499999999975,\n",
              " 3988.2500000000073,\n",
              " 3570.300000000009,\n",
              " 3452.400000000007,\n",
              " -5248.650000000005,\n",
              " -597.5000000000073,\n",
              " 781.2999999999965,\n",
              " 422.7499999999982,\n",
              " -69.30000000000246,\n",
              " 1262.2499999999961,\n",
              " 4338.949999999999,\n",
              " 2221.1000000000004,\n",
              " 898.2000000000025,\n",
              " 2616.900000000004,\n",
              " -718.6000000000022,\n",
              " 6768.950000000004,\n",
              " 5540.0999999999985,\n",
              " 14915.75,\n",
              " 13003.05,\n",
              " 8814.700000000008,\n",
              " 5555.100000000002,\n",
              " 8647.500000000004,\n",
              " 4599.19999999999,\n",
              " 1558.8999999999971,\n",
              " 1479.650000000006]"
            ]
          },
          "metadata": {},
          "execution_count": 9
        }
      ]
    },
    {
      "cell_type": "code",
      "source": [
        "# pair = pd.read_csv(\"/content/{}\".format(final_list[0]))\n",
        "# rsi = pair['rsi']\n",
        "# buy_indices = []\n",
        "# sell_indices = []\n",
        "# date = \"\""
      ],
      "metadata": {
        "id": "3oHqjxewk8O4"
      },
      "execution_count": 10,
      "outputs": []
    },
    {
      "cell_type": "code",
      "source": [
        "# pair"
      ],
      "metadata": {
        "id": "bVDNdprJwmxC"
      },
      "execution_count": 11,
      "outputs": []
    },
    {
      "cell_type": "code",
      "source": [
        "# for i in range(len(rsi)-14):\n",
        "#   if rsi[i]<=30:\n",
        "#     buy_indices.append(i)\n",
        "#   if rsi[i]>=70:\n",
        "#     sell_indices.append(i)\n",
        "# half_budget = 50000\n",
        "# date=pair['dates']"
      ],
      "metadata": {
        "id": "PosHmPkqlCL2"
      },
      "execution_count": 12,
      "outputs": []
    },
    {
      "cell_type": "code",
      "source": [
        "# pl=[]"
      ],
      "metadata": {
        "id": "5Bndt60lpqg5"
      },
      "execution_count": 13,
      "outputs": []
    },
    {
      "cell_type": "code",
      "source": [
        "\n",
        "# for i in final_list:\n",
        "#   a,b,_1,_2=i.split('_')\n",
        "#   pair = pd.read_csv(\"/content/{}\".format(i))\n",
        "#   rsi = pair['rsi']\n",
        "#   buy_indices = []\n",
        "#   sell_indices = []\n",
        "#   date = \"\"\n",
        "#   for i in range(len(rsi)-14):\n",
        "#     if rsi[i]<=30:\n",
        "#       buy_indices.append(i)\n",
        "#     if rsi[i]>=70:\n",
        "#       sell_indices.append(i)\n",
        "#   half_budget = 50000\n",
        "#   date=pair['dates']\n",
        "#   if(len(sell_indices)!=0):\n",
        "#     company_1_shares = int(half_budget / pair['company A'][sell_indices[0]])\n",
        "#     company_2_shares = int(half_budget / pair['company B'][sell_indices[0]])\n",
        "#     closing_index = 0\n",
        "#     sell_rsi_initial = pair['rsi'][sell_indices[0]]\n",
        "#     twenty_percent_value = 0.2*70\n",
        "#     for i in range(sell_indices[0],len(rsi)):\n",
        "#       if(rsi[i]<=sell_rsi_initial-twenty_percent_value):\n",
        "#         closing_index = i\n",
        "#         break\n",
        "\n",
        "#     pl_a = company_1_shares*(pair['company A'][sell_indices[0]]-pair['company A'][closing_index])\n",
        "#     pl_b = company_2_shares*(pair['company B'][closing_index]-pair['company B'][sell_indices[0]])\n",
        "#     print(\"P/L ccc for {} and {} at {} = {}\".format(a,b,date[0],pl_a+pl_b))\n",
        "#     pl.append(pl_a+pl_b)\n",
        "  \n",
        "  \n",
        "#   if(len(buy_indices)!=0):\n",
        "#     company_1_shares = int(half_budget / pair['company A'][buy_indices[0]])\n",
        "#     company_2_shares = int(half_budget / pair['company B'][buy_indices[0]])\n",
        "#     closing_index = 0\n",
        "#     buy_rsi_initial = pair['rsi'][buy_indices[0]]\n",
        "#     twenty_percent_value = 0.2*30\n",
        "#     for i in range(buy_indices[0],len(rsi)):\n",
        "#       if(rsi[i]>=buy_rsi_initial+twenty_percent_value):\n",
        "#         closing_index = i\n",
        "#         break\n",
        "\n",
        "#     pl_a = company_1_shares*(pair['company A'][closing_index]-pair['company A'][buy_indices[0]])\n",
        "#     pl_b = company_2_shares*(pair['company B'][buy_indices[0]]-pair['company B'][closing_index])\n",
        "#     print(\"P/L for {} and {} at {} = {}\".format(a,b,date[0],pl_a+pl_b))\n",
        "#     pl.append(pl_a+pl_b)\n",
        "\n",
        "# print(sum(pl))"
      ],
      "metadata": {
        "id": "oxEmeSn0Udb6"
      },
      "execution_count": 14,
      "outputs": []
    },
    {
      "cell_type": "code",
      "source": [
        "# print(sell_indices)\n",
        "# print(buy_indices)"
      ],
      "metadata": {
        "id": "bS3yrHdGlZSZ"
      },
      "execution_count": 15,
      "outputs": []
    },
    {
      "cell_type": "code",
      "source": [
        "# dates_column =[]\n",
        "# pl_1=[]\n",
        "\n",
        "# if(len(sell_indices)!=0):\n",
        "#   for i in sell_indices:\n",
        "#     company_1_shares = int(half_budget / pair['company A'][i])\n",
        "#     company_2_shares = int(half_budget / pair['company B'][i])\n",
        "#     closing_index = 0\n",
        "#     sell_rsi_initial = pair['rsi'][i]\n",
        "#     twenty_percent_value = 0.2*70\n",
        "#     for j in range(i,len(rsi)):\n",
        "#       if(rsi[j]<=sell_rsi_initial-twenty_percent_value):\n",
        "#         closing_index = j\n",
        "#         break\n",
        "\n",
        "#     pl_a = company_1_shares*(pair['company A'][i]-pair['company A'][closing_index])\n",
        "#     pl_b = company_2_shares*(pair['company B'][closing_index]-pair['company B'][i])\n",
        "#     print(\"P/L ccc for {} and {} at {} = {}\".format(a,b,date[i],pl_a+pl_b))\n",
        "#     dates_column.append(date[i])\n",
        "#     pl_1.append(pl_a+pl_b)\n",
        "\n",
        "# if(len(buy_indices)!=0):\n",
        "#   for i in range(len(buy_indices)):\n",
        "#     company_1_shares = int(half_budget / pair['company A'][i])\n",
        "#     company_2_shares = int(half_budget / pair['company B'][i])\n",
        "#     closing_index = 0\n",
        "#     buy_rsi_initial = pair['rsi'][i]\n",
        "#     twenty_percent_value = 0.2*30\n",
        "#     for j in range(i,len(rsi)):\n",
        "#       if(rsi[j]>=buy_rsi_initial+twenty_percent_value):\n",
        "#         closing_index = j\n",
        "#         break\n",
        "\n",
        "#     pl_a = company_1_shares*(pair['company A'][closing_index]-pair['company A'][i])\n",
        "#     pl_b = company_2_shares*(pair['company B'][i]-pair['company B'][closing_index])\n",
        "#     print(\"P/L for {} and {} at {} = {}\".format(a,b,date[i],pl_a+pl_b))\n",
        "#     dates_column.append(date[i])\n",
        "#     pl_1.append(pl_a+pl_b)\n",
        "\n",
        "# sum(pl_1)\n",
        "\n"
      ],
      "metadata": {
        "id": "k_K1wGOnltzV"
      },
      "execution_count": 16,
      "outputs": []
    },
    {
      "cell_type": "code",
      "source": [
        "len(dates_column)"
      ],
      "metadata": {
        "colab": {
          "base_uri": "https://localhost:8080/"
        },
        "id": "XNx6TFaWpxrg",
        "outputId": "9e3f8243-1a07-41ea-c187-03e9355ebbca"
      },
      "execution_count": 17,
      "outputs": [
        {
          "output_type": "execute_result",
          "data": {
            "text/plain": [
              "133"
            ]
          },
          "metadata": {},
          "execution_count": 17
        }
      ]
    },
    {
      "cell_type": "code",
      "source": [
        "len(pl_1)"
      ],
      "metadata": {
        "colab": {
          "base_uri": "https://localhost:8080/"
        },
        "id": "5brHatjko0IJ",
        "outputId": "9f9159da-92a4-4b06-e38e-bd7dfa9cbb24"
      },
      "execution_count": 18,
      "outputs": [
        {
          "output_type": "execute_result",
          "data": {
            "text/plain": [
              "133"
            ]
          },
          "metadata": {},
          "execution_count": 18
        }
      ]
    },
    {
      "cell_type": "code",
      "source": [
        "# new_df = pd.DataFrame({\"dates\":dates_column,\"{} and {} P/L\".format(a,b):pl_1})"
      ],
      "metadata": {
        "id": "jxK5NHHknvDD"
      },
      "execution_count": 19,
      "outputs": []
    },
    {
      "cell_type": "code",
      "source": [
        "# new_df.to_csv(\"PL_{}_and_{}.csv\".format(a,b))"
      ],
      "metadata": {
        "id": "3eUpks-SqsGp"
      },
      "execution_count": 20,
      "outputs": []
    },
    {
      "cell_type": "code",
      "source": [
        "# rsi = pair['rsi']\n",
        "# buy_indices = []\n",
        "# sell_indices = []\n",
        "# for i in range(len(rsi)-14):\n",
        "#   if rsi[i]<=30:\n",
        "#     buy_indices.append(i)\n",
        "#   if rsi[i]>=70:\n",
        "#     sell_indices.append(i)"
      ],
      "metadata": {
        "id": "PL5KGInFV17s"
      },
      "execution_count": 21,
      "outputs": []
    },
    {
      "cell_type": "code",
      "source": [
        "# print(sell_indices)\n",
        "# print(buy_indices)"
      ],
      "metadata": {
        "id": "JnAutfb0bseD"
      },
      "execution_count": 22,
      "outputs": []
    },
    {
      "cell_type": "code",
      "source": [
        "# half_budget = 50000\n",
        "# company_1_shares = int(half_budget / pair['company A'][47])\n",
        "# company_2_shares = int(half_budget / pair['company B'][47])\n",
        "# print(\"{} stocks of A sold at {}\".format(company_1_shares,pair['company A'][47]))\n",
        "# print(\"Invested cost for selling = {}\".format(company_1_shares*pair['company A'][47]))\n",
        "# print(\"\")\n",
        "# print(\"{} stocks of B purchased at {}\".format(company_2_shares,pair['company B'][47]))\n",
        "# print(\"Invested cost for purchasing = {}\".format(company_2_shares*pair['company B'][47]))"
      ],
      "metadata": {
        "id": "fi8yGVCkZP9r"
      },
      "execution_count": 23,
      "outputs": []
    },
    {
      "cell_type": "code",
      "source": [
        "\n",
        "# closing_index = 0\n",
        "# sell_rsi_initial = pair['rsi'][47]\n",
        "# twenty_percent_value = 0.2*70\n",
        "# for i in range(47,len(rsi)):\n",
        "#   if(rsi[i]<=sell_rsi_initial-twenty_percent_value):\n",
        "#     closing_index = i\n",
        "#     break\n",
        "\n",
        "\n",
        "# print(sell_rsi_initial)\n",
        "\n",
        "# print(closing_index)\n"
      ],
      "metadata": {
        "id": "nxa5glssdLbc"
      },
      "execution_count": 24,
      "outputs": []
    },
    {
      "cell_type": "code",
      "source": [
        "# print(\"{} stocks of A squared off at {}\".format(company_1_shares,pair['company A'][closing_index]))\n",
        "# print(\"{} stocks of B squared off at {}\".format(company_2_shares,pair['company B'][closing_index]))\n",
        "\n",
        "# pl_a = company_1_shares*(pair['company A'][47]-pair['company A'][closing_index])\n",
        "# pl_b = company_2_shares*(pair['company B'][closing_index]-pair['company B'][47])\n",
        "\n",
        "# print(\"Total profit or loss:\",pl_a+pl_b)"
      ],
      "metadata": {
        "id": "LG0yCJ3-jgGH"
      },
      "execution_count": 25,
      "outputs": []
    }
  ]
}